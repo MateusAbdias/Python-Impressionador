{
 "cells": [
  {
   "cell_type": "markdown",
   "id": "0fdd4233",
   "metadata": {},
   "source": [
    "# Exercícios do Módulo 1 - Operações, Variáveis e Input\n",
    "\n",
    "### Parte 1 - Operações e Variáveis\n",
    "Crie um programa que imprima (print) os principais indicadores da loja Hashtag&Drink no último ano.\n",
    "Obs: faça tudo usando variáveis.\n",
    "\n",
    "Valores do último ano:\n",
    "\n",
    "Quantidade de Vendas de Coca = 150<br>\n",
    "Quantidade de Vendas de Pepsi = 130<br>\n",
    "Preço Unitário da Coca = 1,50 <br>\n",
    "Preço Unitário da Pepsi = 1,50<br>\n",
    "Custo da Loja: 2.500,00\n",
    "\n",
    "Use o bloco abaixo para criar todas as variáveis que precisar."
   ]
  },
  {
   "cell_type": "code",
   "execution_count": 3,
   "id": "42564bd9",
   "metadata": {},
   "outputs": [],
   "source": [
    "valorCoca = 1.50\n",
    "valorPepsi = 1.50\n",
    "\n",
    "vendasCoca = 150\n",
    "vendasPepsi = 130\n",
    "\n",
    "valorLoja = 2500"
   ]
  },
  {
   "cell_type": "markdown",
   "id": "57f31894",
   "metadata": {},
   "source": [
    "\"\"\"1. Qual foi o faturamento de Pepsi da Loja?\"\"\""
   ]
  },
  {
   "cell_type": "code",
   "execution_count": 4,
   "id": "3af3e0cd",
   "metadata": {},
   "outputs": [
    {
     "name": "stdout",
     "output_type": "stream",
     "text": [
      "O Faturamento com Pepsi foi de: 195.0\n"
     ]
    }
   ],
   "source": [
    "print(\"O Faturamento com Pepsi foi de:\", valorPepsi * vendasPepsi)"
   ]
  },
  {
   "cell_type": "markdown",
   "id": "35766479",
   "metadata": {},
   "source": [
    "\"\"\"2. Qual foi o faturamento de Coca da Loja?\"\"\""
   ]
  },
  {
   "cell_type": "code",
   "execution_count": 5,
   "id": "1e4eba11",
   "metadata": {},
   "outputs": [
    {
     "name": "stdout",
     "output_type": "stream",
     "text": [
      "O Faturmaneto com Coca foi de: 225.0\n"
     ]
    }
   ],
   "source": [
    "print(\"O Faturamento com Coca foi de:\", valorCoca * vendasCoca)"
   ]
  },
  {
   "cell_type": "markdown",
   "id": "1e1435f5",
   "metadata": {},
   "source": [
    "\"\"\"3. Qual foi o Lucro da loja?\"\"\""
   ]
  },
  {
   "cell_type": "code",
   "execution_count": 11,
   "id": "58bfff04",
   "metadata": {},
   "outputs": [
    {
     "name": "stdout",
     "output_type": "stream",
     "text": [
      "-2080.0\n"
     ]
    }
   ],
   "source": [
    "faturamento = vendasCoca * valorCoca + vendasPepsi * valorPepsi\n",
    "lucro = faturamento - valorLoja\n",
    "print(lucro)"
   ]
  },
  {
   "cell_type": "markdown",
   "id": "8264480d",
   "metadata": {},
   "source": [
    "\"\"\"4. Qual foi a Margem da Loja? (Lembre-se, margem = Lucro / Faturamento). Não precisa formatar em percentual\"\"\""
   ]
  },
  {
   "cell_type": "code",
   "execution_count": 12,
   "id": "a0488beb",
   "metadata": {},
   "outputs": [
    {
     "name": "stdout",
     "output_type": "stream",
     "text": [
      "-4.9523809523809526\n"
     ]
    }
   ],
   "source": [
    "margem = lucro / faturamento\n",
    "print(margem)"
   ]
  },
  {
   "cell_type": "markdown",
   "id": "f1ba2e5f",
   "metadata": {},
   "source": [
    "\"\"\"### Parte 2 - Inputs e Strings\n",
    "\n",
    "A maioria das empresas trabalham com um Código para cada produto que possuem. A Hashtag&Drink, por exemplo, tem mais de 1.000 produtos e possui um código para cada produto.\n",
    "Ex: \n",
    "Coca -> Código: BEB1300543<br>\n",
    "Pepsi -> Código: BEB1300545<br>\n",
    "Vinho Primitivo Lucarelli -> Código: BAC1546001<br>\n",
    "Vodka Smirnoff -> Código: BAC17675002<br>\n",
    "\n",
    "Repare que todas as bebidas não alcóolicas tem o início do Código \"BEB\" e todas as bebidas alcóolicas tem o início do código \"BAC\".\n",
    "\n",
    "Crie um programa de consulta de bebida que, dado um código qualquer, identifique se a bebida é alcóolica. O programa deve responder True para bebidas alcóolicas e False para bebidas não alcóolicas. Para inserir um código, use um input.\n",
    "\n",
    "Dica: Lembre-se do comando in para strings e sempre insira os códigos com letra maiúscula para facilitar.\n",
    "\"\"\""
   ]
  },
  {
   "cell_type": "code",
   "execution_count": 16,
   "id": "a7169e30",
   "metadata": {},
   "outputs": [
    {
     "name": "stdout",
     "output_type": "stream",
     "text": [
      "False\n",
      "False\n",
      "True\n",
      "True\n"
     ]
    }
   ],
   "source": [
    "pepsi = \"BEB1300545\"\n",
    "coca= \"BEB1300543\"\n",
    "vinho = \"BAC1546001\"\n",
    "vodka = \"BAC17675002\"\n",
    "\n",
    "print(\"BAC\" in pepsi)\n",
    "print(\"BAC\" in coca)\n",
    "print(\"BAC\" in vinho)\n",
    "print(\"BAC\" in vodka)"
   ]
  },
  {
   "cell_type": "code",
   "execution_count": 19,
   "id": "f25c1372",
   "metadata": {},
   "outputs": [
    {
     "name": "stdout",
     "output_type": "stream",
     "text": [
      "Digite o código do produto: BEB1300545\n",
      "False\n"
     ]
    }
   ],
   "source": [
    "cod = input(\"Digite o código do produto: \")\n",
    "print(\"BAC\" in cod)"
   ]
  },
  {
   "cell_type": "code",
   "execution_count": null,
   "id": "3d1bdca3",
   "metadata": {},
   "outputs": [],
   "source": []
  }
 ],
 "metadata": {
  "kernelspec": {
   "display_name": "Python 3 (ipykernel)",
   "language": "python",
   "name": "python3"
  },
  "language_info": {
   "codemirror_mode": {
    "name": "ipython",
    "version": 3
   },
   "file_extension": ".py",
   "mimetype": "text/x-python",
   "name": "python",
   "nbconvert_exporter": "python",
   "pygments_lexer": "ipython3",
   "version": "3.11.3"
  }
 },
 "nbformat": 4,
 "nbformat_minor": 5
}
