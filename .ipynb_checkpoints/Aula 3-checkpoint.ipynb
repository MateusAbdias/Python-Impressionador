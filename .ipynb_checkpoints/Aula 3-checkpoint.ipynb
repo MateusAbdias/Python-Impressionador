{
 "cells": [
  {
   "cell_type": "code",
   "execution_count": 2,
   "id": "eb2e2576",
   "metadata": {},
   "outputs": [
    {
     "name": "stdout",
     "output_type": "stream",
     "text": [
      "1500\n",
      "Mateus\n"
     ]
    }
   ],
   "source": [
    "qtdeVendas = 1500\n",
    "nome = \"Mateus\"\n",
    "\n",
    "print(qtdeVendas)\n",
    "print(nome)\n",
    "\n",
    "# Cuidado ao executar as células de \"ação\" sem antes ter executado a célula que declara a variável"
   ]
  }
 ],
 "metadata": {
  "kernelspec": {
   "display_name": "Python 3 (ipykernel)",
   "language": "python",
   "name": "python3"
  },
  "language_info": {
   "codemirror_mode": {
    "name": "ipython",
    "version": 3
   },
   "file_extension": ".py",
   "mimetype": "text/x-python",
   "name": "python",
   "nbconvert_exporter": "python",
   "pygments_lexer": "ipython3",
   "version": "3.11.3"
  }
 },
 "nbformat": 4,
 "nbformat_minor": 5
}
