{
 "cells": [
  {
   "cell_type": "code",
   "execution_count": 1,
   "id": "a9f2115a",
   "metadata": {},
   "outputs": [],
   "source": [
    "# Ctrl Enter EXECUTA O CÓDIGO\n",
    "# Shift Enter ADICIONA UMA CÉLULA"
   ]
  },
  {
   "cell_type": "code",
   "execution_count": 5,
   "id": "cc374303",
   "metadata": {},
   "outputs": [
    {
     "name": "stdout",
     "output_type": "stream",
     "text": [
      "1\n",
      "Um texto qualquer\n"
     ]
    }
   ],
   "source": [
    "print(1)\n",
    "print(\"Um texto qualquer\")"
   ]
  },
  {
   "cell_type": "code",
   "execution_count": 9,
   "id": "56700f5f",
   "metadata": {},
   "outputs": [
    {
     "name": "stdout",
     "output_type": "stream",
     "text": [
      "2\n",
      "0\n",
      "4\n",
      "8\n",
      "0.6666666666666666\n",
      "1\n"
     ]
    }
   ],
   "source": [
    "print(1 + 1)\n",
    "print(1 - 1)\n",
    "print(2 * 2)\n",
    "print(2 ** 3)\n",
    "print(2 / 3)\n",
    "print(7 % 3)"
   ]
  }
 ],
 "metadata": {
  "kernelspec": {
   "display_name": "Python 3 (ipykernel)",
   "language": "python",
   "name": "python3"
  },
  "language_info": {
   "codemirror_mode": {
    "name": "ipython",
    "version": 3
   },
   "file_extension": ".py",
   "mimetype": "text/x-python",
   "name": "python",
   "nbconvert_exporter": "python",
   "pygments_lexer": "ipython3",
   "version": "3.11.3"
  }
 },
 "nbformat": 4,
 "nbformat_minor": 5
}
