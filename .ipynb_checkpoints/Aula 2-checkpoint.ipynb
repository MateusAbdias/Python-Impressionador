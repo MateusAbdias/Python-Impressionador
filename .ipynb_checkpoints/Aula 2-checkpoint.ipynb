{
 "cells": [
  {
   "cell_type": "code",
   "execution_count": 2,
   "id": "f2c4036e",
   "metadata": {},
   "outputs": [
    {
     "name": "stdout",
     "output_type": "stream",
     "text": [
      "Meu nome é Mateus\n"
     ]
    }
   ],
   "source": [
    "print(\"Meu nome é Mateus\")"
   ]
  },
  {
   "cell_type": "code",
   "execution_count": 4,
   "id": "48f12141",
   "metadata": {},
   "outputs": [
    {
     "name": "stdout",
     "output_type": "stream",
     "text": [
      "Meu nome é Mateus\n"
     ]
    }
   ],
   "source": [
    "print(\"Meu nome é \" + \"Mateus\")"
   ]
  },
  {
   "cell_type": "code",
   "execution_count": 6,
   "id": "12a30908",
   "metadata": {},
   "outputs": [
    {
     "name": "stdout",
     "output_type": "stream",
     "text": [
      "False\n",
      "True\n"
     ]
    }
   ],
   "source": [
    "# procura o primeiro texto dentro do segundo e retorna um booleano\n",
    "# Case Sensitive\n",
    "print(\"Meu nome é\" in \"Mateus\")\n",
    "print(\"M\" in \"Mateus\")"
   ]
  }
 ],
 "metadata": {
  "kernelspec": {
   "display_name": "Python 3 (ipykernel)",
   "language": "python",
   "name": "python3"
  },
  "language_info": {
   "codemirror_mode": {
    "name": "ipython",
    "version": 3
   },
   "file_extension": ".py",
   "mimetype": "text/x-python",
   "name": "python",
   "nbconvert_exporter": "python",
   "pygments_lexer": "ipython3",
   "version": "3.11.3"
  }
 },
 "nbformat": 4,
 "nbformat_minor": 5
}
